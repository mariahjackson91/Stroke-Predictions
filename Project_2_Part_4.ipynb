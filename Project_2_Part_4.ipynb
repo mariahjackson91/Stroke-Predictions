{
  "nbformat": 4,
  "nbformat_minor": 0,
  "metadata": {
    "colab": {
      "provenance": [],
      "authorship_tag": "ABX9TyO5PthbyXCOaTuGCZo6PbJz",
      "include_colab_link": true
    },
    "kernelspec": {
      "name": "python3",
      "display_name": "Python 3"
    },
    "language_info": {
      "name": "python"
    }
  },
  "cells": [
    {
      "cell_type": "markdown",
      "metadata": {
        "id": "view-in-github",
        "colab_type": "text"
      },
      "source": [
        "<a href=\"https://colab.research.google.com/github/mariahjackson91/Stroke-Predictions/blob/main/Project_2_Part_4.ipynb\" target=\"_parent\"><img src=\"https://colab.research.google.com/assets/colab-badge.svg\" alt=\"Open In Colab\"/></a>"
      ]
    },
    {
      "cell_type": "code",
      "source": [
        "import pandas as pd\n",
        "import numpy as np\n",
        "import matplotlib.pyplot as plt\n",
        "#import seaborn to make a nice heatmap for our confusion matrix\n",
        "import seaborn as sns\n",
        "from seaborn import heatmap\n",
        "\n",
        "#import some necessary tools\n",
        "from sklearn.compose import make_column_transformer, make_column_selector\n",
        "from sklearn.preprocessing import StandardScaler, OneHotEncoder\n",
        "from sklearn.model_selection import train_test_split, GridSearchCV\n",
        "from sklearn.pipeline import make_pipeline\n",
        "from sklearn.impute import SimpleImputer\n",
        "from sklearn.decomposition import PCA\n",
        "from sklearn.cluster import KMeans\n",
        "from sklearn.metrics import silhouette_score\n",
        "\n",
        "#import accuracy, precision, recall, classification report, and confusion matrix scoring functions\n",
        "from sklearn.metrics import classification_report, confusion_matrix\n",
        "from sklearn.metrics import accuracy_score, precision_score, recall_score, classification_report, ConfusionMatrixDisplay, confusion_matrix\n",
        "\n",
        "#Importing the Classifiers\n",
        "from sklearn.tree import DecisionTreeClassifier\n",
        "from sklearn.ensemble import BaggingClassifier\n",
        "from sklearn.ensemble import RandomForestClassifier\n",
        "from sklearn.dummy import DummyClassifier\n",
        "from sklearn.neighbors import KNeighborsClassifier"
      ],
      "metadata": {
        "id": "48WAE_VfUoGG"
      },
      "execution_count": 1,
      "outputs": []
    },
    {
      "cell_type": "code",
      "source": [
        "df = pd.read_csv('/content/drive/MyDrive/Coding Dojo- Data Science/Project 2/healthcare-dataset-stroke-data.csv')\n",
        "df.head()"
      ],
      "metadata": {
        "colab": {
          "base_uri": "https://localhost:8080/",
          "height": 206
        },
        "id": "NYIDvF4OUsdN",
        "outputId": "0f0131d1-aaaf-4061-aa40-8d7fbae90a54"
      },
      "execution_count": 2,
      "outputs": [
        {
          "output_type": "execute_result",
          "data": {
            "text/plain": [
              "      id  gender   age  hypertension  heart_disease ever_married  \\\n",
              "0   9046    Male  67.0             0              1          Yes   \n",
              "1  51676  Female  61.0             0              0          Yes   \n",
              "2  31112    Male  80.0             0              1          Yes   \n",
              "3  60182  Female  49.0             0              0          Yes   \n",
              "4   1665  Female  79.0             1              0          Yes   \n",
              "\n",
              "       work_type Residence_type  avg_glucose_level   bmi   smoking_status  \\\n",
              "0        Private          Urban             228.69  36.6  formerly smoked   \n",
              "1  Self-employed          Rural             202.21   NaN     never smoked   \n",
              "2        Private          Rural             105.92  32.5     never smoked   \n",
              "3        Private          Urban             171.23  34.4           smokes   \n",
              "4  Self-employed          Rural             174.12  24.0     never smoked   \n",
              "\n",
              "   stroke  \n",
              "0       1  \n",
              "1       1  \n",
              "2       1  \n",
              "3       1  \n",
              "4       1  "
            ],
            "text/html": [
              "\n",
              "  <div id=\"df-c7728362-125c-49dd-a0e5-81670248dd92\">\n",
              "    <div class=\"colab-df-container\">\n",
              "      <div>\n",
              "<style scoped>\n",
              "    .dataframe tbody tr th:only-of-type {\n",
              "        vertical-align: middle;\n",
              "    }\n",
              "\n",
              "    .dataframe tbody tr th {\n",
              "        vertical-align: top;\n",
              "    }\n",
              "\n",
              "    .dataframe thead th {\n",
              "        text-align: right;\n",
              "    }\n",
              "</style>\n",
              "<table border=\"1\" class=\"dataframe\">\n",
              "  <thead>\n",
              "    <tr style=\"text-align: right;\">\n",
              "      <th></th>\n",
              "      <th>id</th>\n",
              "      <th>gender</th>\n",
              "      <th>age</th>\n",
              "      <th>hypertension</th>\n",
              "      <th>heart_disease</th>\n",
              "      <th>ever_married</th>\n",
              "      <th>work_type</th>\n",
              "      <th>Residence_type</th>\n",
              "      <th>avg_glucose_level</th>\n",
              "      <th>bmi</th>\n",
              "      <th>smoking_status</th>\n",
              "      <th>stroke</th>\n",
              "    </tr>\n",
              "  </thead>\n",
              "  <tbody>\n",
              "    <tr>\n",
              "      <th>0</th>\n",
              "      <td>9046</td>\n",
              "      <td>Male</td>\n",
              "      <td>67.0</td>\n",
              "      <td>0</td>\n",
              "      <td>1</td>\n",
              "      <td>Yes</td>\n",
              "      <td>Private</td>\n",
              "      <td>Urban</td>\n",
              "      <td>228.69</td>\n",
              "      <td>36.6</td>\n",
              "      <td>formerly smoked</td>\n",
              "      <td>1</td>\n",
              "    </tr>\n",
              "    <tr>\n",
              "      <th>1</th>\n",
              "      <td>51676</td>\n",
              "      <td>Female</td>\n",
              "      <td>61.0</td>\n",
              "      <td>0</td>\n",
              "      <td>0</td>\n",
              "      <td>Yes</td>\n",
              "      <td>Self-employed</td>\n",
              "      <td>Rural</td>\n",
              "      <td>202.21</td>\n",
              "      <td>NaN</td>\n",
              "      <td>never smoked</td>\n",
              "      <td>1</td>\n",
              "    </tr>\n",
              "    <tr>\n",
              "      <th>2</th>\n",
              "      <td>31112</td>\n",
              "      <td>Male</td>\n",
              "      <td>80.0</td>\n",
              "      <td>0</td>\n",
              "      <td>1</td>\n",
              "      <td>Yes</td>\n",
              "      <td>Private</td>\n",
              "      <td>Rural</td>\n",
              "      <td>105.92</td>\n",
              "      <td>32.5</td>\n",
              "      <td>never smoked</td>\n",
              "      <td>1</td>\n",
              "    </tr>\n",
              "    <tr>\n",
              "      <th>3</th>\n",
              "      <td>60182</td>\n",
              "      <td>Female</td>\n",
              "      <td>49.0</td>\n",
              "      <td>0</td>\n",
              "      <td>0</td>\n",
              "      <td>Yes</td>\n",
              "      <td>Private</td>\n",
              "      <td>Urban</td>\n",
              "      <td>171.23</td>\n",
              "      <td>34.4</td>\n",
              "      <td>smokes</td>\n",
              "      <td>1</td>\n",
              "    </tr>\n",
              "    <tr>\n",
              "      <th>4</th>\n",
              "      <td>1665</td>\n",
              "      <td>Female</td>\n",
              "      <td>79.0</td>\n",
              "      <td>1</td>\n",
              "      <td>0</td>\n",
              "      <td>Yes</td>\n",
              "      <td>Self-employed</td>\n",
              "      <td>Rural</td>\n",
              "      <td>174.12</td>\n",
              "      <td>24.0</td>\n",
              "      <td>never smoked</td>\n",
              "      <td>1</td>\n",
              "    </tr>\n",
              "  </tbody>\n",
              "</table>\n",
              "</div>\n",
              "      <button class=\"colab-df-convert\" onclick=\"convertToInteractive('df-c7728362-125c-49dd-a0e5-81670248dd92')\"\n",
              "              title=\"Convert this dataframe to an interactive table.\"\n",
              "              style=\"display:none;\">\n",
              "        \n",
              "  <svg xmlns=\"http://www.w3.org/2000/svg\" height=\"24px\"viewBox=\"0 0 24 24\"\n",
              "       width=\"24px\">\n",
              "    <path d=\"M0 0h24v24H0V0z\" fill=\"none\"/>\n",
              "    <path d=\"M18.56 5.44l.94 2.06.94-2.06 2.06-.94-2.06-.94-.94-2.06-.94 2.06-2.06.94zm-11 1L8.5 8.5l.94-2.06 2.06-.94-2.06-.94L8.5 2.5l-.94 2.06-2.06.94zm10 10l.94 2.06.94-2.06 2.06-.94-2.06-.94-.94-2.06-.94 2.06-2.06.94z\"/><path d=\"M17.41 7.96l-1.37-1.37c-.4-.4-.92-.59-1.43-.59-.52 0-1.04.2-1.43.59L10.3 9.45l-7.72 7.72c-.78.78-.78 2.05 0 2.83L4 21.41c.39.39.9.59 1.41.59.51 0 1.02-.2 1.41-.59l7.78-7.78 2.81-2.81c.8-.78.8-2.07 0-2.86zM5.41 20L4 18.59l7.72-7.72 1.47 1.35L5.41 20z\"/>\n",
              "  </svg>\n",
              "      </button>\n",
              "      \n",
              "  <style>\n",
              "    .colab-df-container {\n",
              "      display:flex;\n",
              "      flex-wrap:wrap;\n",
              "      gap: 12px;\n",
              "    }\n",
              "\n",
              "    .colab-df-convert {\n",
              "      background-color: #E8F0FE;\n",
              "      border: none;\n",
              "      border-radius: 50%;\n",
              "      cursor: pointer;\n",
              "      display: none;\n",
              "      fill: #1967D2;\n",
              "      height: 32px;\n",
              "      padding: 0 0 0 0;\n",
              "      width: 32px;\n",
              "    }\n",
              "\n",
              "    .colab-df-convert:hover {\n",
              "      background-color: #E2EBFA;\n",
              "      box-shadow: 0px 1px 2px rgba(60, 64, 67, 0.3), 0px 1px 3px 1px rgba(60, 64, 67, 0.15);\n",
              "      fill: #174EA6;\n",
              "    }\n",
              "\n",
              "    [theme=dark] .colab-df-convert {\n",
              "      background-color: #3B4455;\n",
              "      fill: #D2E3FC;\n",
              "    }\n",
              "\n",
              "    [theme=dark] .colab-df-convert:hover {\n",
              "      background-color: #434B5C;\n",
              "      box-shadow: 0px 1px 3px 1px rgba(0, 0, 0, 0.15);\n",
              "      filter: drop-shadow(0px 1px 2px rgba(0, 0, 0, 0.3));\n",
              "      fill: #FFFFFF;\n",
              "    }\n",
              "  </style>\n",
              "\n",
              "      <script>\n",
              "        const buttonEl =\n",
              "          document.querySelector('#df-c7728362-125c-49dd-a0e5-81670248dd92 button.colab-df-convert');\n",
              "        buttonEl.style.display =\n",
              "          google.colab.kernel.accessAllowed ? 'block' : 'none';\n",
              "\n",
              "        async function convertToInteractive(key) {\n",
              "          const element = document.querySelector('#df-c7728362-125c-49dd-a0e5-81670248dd92');\n",
              "          const dataTable =\n",
              "            await google.colab.kernel.invokeFunction('convertToInteractive',\n",
              "                                                     [key], {});\n",
              "          if (!dataTable) return;\n",
              "\n",
              "          const docLinkHtml = 'Like what you see? Visit the ' +\n",
              "            '<a target=\"_blank\" href=https://colab.research.google.com/notebooks/data_table.ipynb>data table notebook</a>'\n",
              "            + ' to learn more about interactive tables.';\n",
              "          element.innerHTML = '';\n",
              "          dataTable['output_type'] = 'display_data';\n",
              "          await google.colab.output.renderOutput(dataTable, element);\n",
              "          const docLink = document.createElement('div');\n",
              "          docLink.innerHTML = docLinkHtml;\n",
              "          element.appendChild(docLink);\n",
              "        }\n",
              "      </script>\n",
              "    </div>\n",
              "  </div>\n",
              "  "
            ]
          },
          "metadata": {},
          "execution_count": 2
        }
      ]
    },
    {
      "cell_type": "code",
      "source": [
        "df.info()"
      ],
      "metadata": {
        "colab": {
          "base_uri": "https://localhost:8080/"
        },
        "id": "1Q2cGNlbVIx6",
        "outputId": "8dd7300a-ac89-4c4e-b36a-024490a48d07"
      },
      "execution_count": 3,
      "outputs": [
        {
          "output_type": "stream",
          "name": "stdout",
          "text": [
            "<class 'pandas.core.frame.DataFrame'>\n",
            "RangeIndex: 5110 entries, 0 to 5109\n",
            "Data columns (total 12 columns):\n",
            " #   Column             Non-Null Count  Dtype  \n",
            "---  ------             --------------  -----  \n",
            " 0   id                 5110 non-null   int64  \n",
            " 1   gender             5110 non-null   object \n",
            " 2   age                5110 non-null   float64\n",
            " 3   hypertension       5110 non-null   int64  \n",
            " 4   heart_disease      5110 non-null   int64  \n",
            " 5   ever_married       5110 non-null   object \n",
            " 6   work_type          5110 non-null   object \n",
            " 7   Residence_type     5110 non-null   object \n",
            " 8   avg_glucose_level  5110 non-null   float64\n",
            " 9   bmi                4909 non-null   float64\n",
            " 10  smoking_status     5110 non-null   object \n",
            " 11  stroke             5110 non-null   int64  \n",
            "dtypes: float64(3), int64(4), object(5)\n",
            "memory usage: 479.2+ KB\n"
          ]
        }
      ]
    },
    {
      "cell_type": "markdown",
      "source": [
        "# Data Cleaning"
      ],
      "metadata": {
        "id": "jX-pMaa8Xmll"
      }
    },
    {
      "cell_type": "code",
      "source": [
        "# check missing values\n",
        "df.isna().sum()"
      ],
      "metadata": {
        "colab": {
          "base_uri": "https://localhost:8080/"
        },
        "id": "RE7yyxJ8VRha",
        "outputId": "20abafcb-a2ad-4fba-9626-2c4f9deacdd3"
      },
      "execution_count": 4,
      "outputs": [
        {
          "output_type": "execute_result",
          "data": {
            "text/plain": [
              "id                     0\n",
              "gender                 0\n",
              "age                    0\n",
              "hypertension           0\n",
              "heart_disease          0\n",
              "ever_married           0\n",
              "work_type              0\n",
              "Residence_type         0\n",
              "avg_glucose_level      0\n",
              "bmi                  201\n",
              "smoking_status         0\n",
              "stroke                 0\n",
              "dtype: int64"
            ]
          },
          "metadata": {},
          "execution_count": 4
        }
      ]
    },
    {
      "cell_type": "code",
      "source": [
        "# fix the missing values\n",
        "df = df.fillna(df['bmi'].value_counts().index[0])"
      ],
      "metadata": {
        "id": "gMMIGlZlVd9X"
      },
      "execution_count": 5,
      "outputs": []
    },
    {
      "cell_type": "code",
      "source": [
        "# check that missing values have been handled\n",
        "df.isna().sum()"
      ],
      "metadata": {
        "colab": {
          "base_uri": "https://localhost:8080/"
        },
        "id": "bMBFjOkOVoi9",
        "outputId": "469e1c2f-5bd0-4724-b7f6-88514964af31"
      },
      "execution_count": 6,
      "outputs": [
        {
          "output_type": "execute_result",
          "data": {
            "text/plain": [
              "id                   0\n",
              "gender               0\n",
              "age                  0\n",
              "hypertension         0\n",
              "heart_disease        0\n",
              "ever_married         0\n",
              "work_type            0\n",
              "Residence_type       0\n",
              "avg_glucose_level    0\n",
              "bmi                  0\n",
              "smoking_status       0\n",
              "stroke               0\n",
              "dtype: int64"
            ]
          },
          "metadata": {},
          "execution_count": 6
        }
      ]
    },
    {
      "cell_type": "code",
      "source": [
        "# check for duplicates\n",
        "df.duplicated().sum()"
      ],
      "metadata": {
        "colab": {
          "base_uri": "https://localhost:8080/"
        },
        "id": "qRMt7jlTVyCN",
        "outputId": "f2fe4143-52ed-423b-c9ba-48a2ca69e00f"
      },
      "execution_count": 7,
      "outputs": [
        {
          "output_type": "execute_result",
          "data": {
            "text/plain": [
              "0"
            ]
          },
          "metadata": {},
          "execution_count": 7
        }
      ]
    },
    {
      "cell_type": "code",
      "source": [
        "# check for data inconsistancies\n",
        "for col in df:\n",
        "  if df[col].dtype == 'object':\n",
        "    print(col)\n",
        "    print(df[col].unique())\n",
        "    print()"
      ],
      "metadata": {
        "colab": {
          "base_uri": "https://localhost:8080/"
        },
        "id": "HDCyjyz4Vzel",
        "outputId": "1416f15a-bb1c-4cd2-d5d3-df87c978ff7c"
      },
      "execution_count": 8,
      "outputs": [
        {
          "output_type": "stream",
          "name": "stdout",
          "text": [
            "gender\n",
            "['Male' 'Female' 'Other']\n",
            "\n",
            "ever_married\n",
            "['Yes' 'No']\n",
            "\n",
            "work_type\n",
            "['Private' 'Self-employed' 'Govt_job' 'children' 'Never_worked']\n",
            "\n",
            "Residence_type\n",
            "['Urban' 'Rural']\n",
            "\n",
            "smoking_status\n",
            "['formerly smoked' 'never smoked' 'smokes' 'Unknown']\n",
            "\n"
          ]
        }
      ]
    },
    {
      "cell_type": "code",
      "source": [
        "df['gender'].replace({'Male':0, 'Female':1, 'Other':2}, inplace=True)\n",
        "df['gender'].value_counts()"
      ],
      "metadata": {
        "colab": {
          "base_uri": "https://localhost:8080/"
        },
        "id": "aYLyPnLHamlz",
        "outputId": "95d0c703-c72e-4aee-ddb7-e2fde3b9399c"
      },
      "execution_count": 9,
      "outputs": [
        {
          "output_type": "execute_result",
          "data": {
            "text/plain": [
              "1    2994\n",
              "0    2115\n",
              "2       1\n",
              "Name: gender, dtype: int64"
            ]
          },
          "metadata": {},
          "execution_count": 9
        }
      ]
    },
    {
      "cell_type": "code",
      "source": [
        "df['ever_married'].replace({'Yes':0, 'No':1}, inplace=True)\n",
        "df['ever_married'].value_counts()"
      ],
      "metadata": {
        "colab": {
          "base_uri": "https://localhost:8080/"
        },
        "id": "DuIdLdXgayGN",
        "outputId": "7dc37e08-affe-4dbd-b5d8-e78d65bf8fb5"
      },
      "execution_count": 10,
      "outputs": [
        {
          "output_type": "execute_result",
          "data": {
            "text/plain": [
              "0    3353\n",
              "1    1757\n",
              "Name: ever_married, dtype: int64"
            ]
          },
          "metadata": {},
          "execution_count": 10
        }
      ]
    },
    {
      "cell_type": "code",
      "source": [
        "df['Residence_type'].replace({'Urban':0, 'Rural':1}, inplace=True)\n",
        "df['Residence_type'].value_counts()"
      ],
      "metadata": {
        "colab": {
          "base_uri": "https://localhost:8080/"
        },
        "id": "l2QOXo7PbLZm",
        "outputId": "b21c3f32-bf5f-4816-be84-a874b2ff01c7"
      },
      "execution_count": 11,
      "outputs": [
        {
          "output_type": "execute_result",
          "data": {
            "text/plain": [
              "0    2596\n",
              "1    2514\n",
              "Name: Residence_type, dtype: int64"
            ]
          },
          "metadata": {},
          "execution_count": 11
        }
      ]
    },
    {
      "cell_type": "code",
      "source": [
        "df['smoking_status'].replace({'formerly smoked':0, 'never smoked':1, 'smokes':2, 'Unknown':3}, inplace=True)\n",
        "df['smoking_status'].value_counts()"
      ],
      "metadata": {
        "colab": {
          "base_uri": "https://localhost:8080/"
        },
        "id": "zH_6B0i6qCFN",
        "outputId": "ec079030-2cd4-4816-9cf7-980638eca97d"
      },
      "execution_count": 12,
      "outputs": [
        {
          "output_type": "execute_result",
          "data": {
            "text/plain": [
              "1    1892\n",
              "3    1544\n",
              "0     885\n",
              "2     789\n",
              "Name: smoking_status, dtype: int64"
            ]
          },
          "metadata": {},
          "execution_count": 12
        }
      ]
    },
    {
      "cell_type": "code",
      "source": [
        "df['work_type'].replace({'Private':0, 'Self-employed':1, 'Govt_job':2, 'children':3, 'Never_worked':4}, inplace=True)\n",
        "df['work_type'].value_counts()"
      ],
      "metadata": {
        "colab": {
          "base_uri": "https://localhost:8080/"
        },
        "id": "Up9uaHxnp7HJ",
        "outputId": "7a3ce441-7ae2-4b89-ad75-c1d2bce1ee20"
      },
      "execution_count": 13,
      "outputs": [
        {
          "output_type": "execute_result",
          "data": {
            "text/plain": [
              "0    2925\n",
              "1     819\n",
              "3     687\n",
              "2     657\n",
              "4      22\n",
              "Name: work_type, dtype: int64"
            ]
          },
          "metadata": {},
          "execution_count": 13
        }
      ]
    },
    {
      "cell_type": "code",
      "source": [
        "# Examine the number of unique values in columns\n",
        "df.nunique()"
      ],
      "metadata": {
        "colab": {
          "base_uri": "https://localhost:8080/"
        },
        "id": "kA3VY7P8WNw4",
        "outputId": "a412963f-bad2-461c-f71f-5891c20a2121"
      },
      "execution_count": 14,
      "outputs": [
        {
          "output_type": "execute_result",
          "data": {
            "text/plain": [
              "id                   5110\n",
              "gender                  3\n",
              "age                   104\n",
              "hypertension            2\n",
              "heart_disease           2\n",
              "ever_married            2\n",
              "work_type               5\n",
              "Residence_type          2\n",
              "avg_glucose_level    3979\n",
              "bmi                   418\n",
              "smoking_status          4\n",
              "stroke                  2\n",
              "dtype: int64"
            ]
          },
          "metadata": {},
          "execution_count": 14
        }
      ]
    },
    {
      "cell_type": "code",
      "source": [
        "# drop ID column\n",
        "df.drop(columns= ['id'], inplace= True)"
      ],
      "metadata": {
        "id": "Ec0UMswqWlj-"
      },
      "execution_count": 15,
      "outputs": []
    },
    {
      "cell_type": "markdown",
      "source": [
        "# Univariate Visuals"
      ],
      "metadata": {
        "id": "H51tEDydXq2y"
      }
    },
    {
      "cell_type": "code",
      "source": [
        "corr = df.corr()"
      ],
      "metadata": {
        "id": "-QTBA9QBX1A1"
      },
      "execution_count": 16,
      "outputs": []
    },
    {
      "cell_type": "code",
      "source": [
        "sns.heatmap(corr, cmap = 'Reds', annot= True)"
      ],
      "metadata": {
        "colab": {
          "base_uri": "https://localhost:8080/",
          "height": 0
        },
        "id": "pf74fYtHYBvv",
        "outputId": "492db67b-8e34-49e6-e0f6-4cf02bc94d9c"
      },
      "execution_count": 17,
      "outputs": [
        {
          "output_type": "execute_result",
          "data": {
            "text/plain": [
              "<matplotlib.axes._subplots.AxesSubplot at 0x7ff7d74a6fd0>"
            ]
          },
          "metadata": {},
          "execution_count": 17
        },
        {
          "output_type": "display_data",
          "data": {
            "text/plain": [
              "<Figure size 432x288 with 2 Axes>"
            ],
            "image/png": "[encoded data removed]"
          },
          "metadata": {
            "needs_background": "light"
          }
        }
      ]
    },
    {
      "cell_type": "code",
      "source": [
        "sns.barplot(data=df, x='stroke', y = 'age')"
      ],
      "metadata": {
        "colab": {
          "base_uri": "https://localhost:8080/",
          "height": 0
        },
        "id": "rrAiDzjFZNoJ",
        "outputId": "039b640b-4a6b-48da-df25-317071237c6d"
      },
      "execution_count": 18,
      "outputs": [
        {
          "output_type": "execute_result",
          "data": {
            "text/plain": [
              "<matplotlib.axes._subplots.AxesSubplot at 0x7ff7d4b69150>"
            ]
          },
          "metadata": {},
          "execution_count": 18
        },
        {
          "output_type": "display_data",
          "data": {
            "text/plain": [
              "<Figure size 432x288 with 1 Axes>"
            ],
            "image/png": "[encoded data removed]"
          },
          "metadata": {
            "needs_background": "light"
          }
        }
      ]
    },
    {
      "cell_type": "code",
      "source": [
        "df.hist('age');"
      ],
      "metadata": {
        "colab": {
          "base_uri": "https://localhost:8080/",
          "height": 0
        },
        "id": "LoNVou5CcvMZ",
        "outputId": "f185d7af-7023-4291-bf35-51320b4672fd"
      },
      "execution_count": 19,
      "outputs": [
        {
          "output_type": "display_data",
          "data": {
            "text/plain": [
              "<Figure size 432x288 with 1 Axes>"
            ],
            "image/png": "[encoded data removed]"
          },
          "metadata": {
            "needs_background": "light"
          }
        }
      ]
    },
    {
      "cell_type": "markdown",
      "source": [
        "# Multivariate Exploratory Visuals"
      ],
      "metadata": {
        "id": "A8DtT5IVY50G"
      }
    },
    {
      "cell_type": "code",
      "source": [
        "grouped_df = df.groupby('stroke', as_index=False).mean()"
      ],
      "metadata": {
        "id": "Q8owNe955Lnq"
      },
      "execution_count": 20,
      "outputs": []
    },
    {
      "cell_type": "code",
      "source": [
        "sns.barplot(data=df, x='stroke', y = 'bmi')"
      ],
      "metadata": {
        "colab": {
          "base_uri": "https://localhost:8080/",
          "height": 0
        },
        "id": "eUvgMb_96j0N",
        "outputId": "9a439a9c-00ef-4286-c3de-2d32ffd9a768"
      },
      "execution_count": 21,
      "outputs": [
        {
          "output_type": "execute_result",
          "data": {
            "text/plain": [
              "<matplotlib.axes._subplots.AxesSubplot at 0x7ff7d2c6ff10>"
            ]
          },
          "metadata": {},
          "execution_count": 21
        },
        {
          "output_type": "display_data",
          "data": {
            "text/plain": [
              "<Figure size 432x288 with 1 Axes>"
            ],
            "image/png": "[encoded data removed]"
          },
          "metadata": {
            "needs_background": "light"
          }
        }
      ]
    },
    {
      "cell_type": "code",
      "source": [
        "sns.barplot(data=df, x='stroke', y = 'avg_glucose_level')"
      ],
      "metadata": {
        "colab": {
          "base_uri": "https://localhost:8080/",
          "height": 0
        },
        "id": "alb5KcSf7BNN",
        "outputId": "1754448a-9b51-456d-f17e-8bd0ac63e1ac"
      },
      "execution_count": 22,
      "outputs": [
        {
          "output_type": "execute_result",
          "data": {
            "text/plain": [
              "<matplotlib.axes._subplots.AxesSubplot at 0x7ff7d2bd0590>"
            ]
          },
          "metadata": {},
          "execution_count": 22
        },
        {
          "output_type": "display_data",
          "data": {
            "text/plain": [
              "<Figure size 432x288 with 1 Axes>"
            ],
            "image/png": "[encoded data removed]"
          },
          "metadata": {
            "needs_background": "light"
          }
        }
      ]
    },
    {
      "cell_type": "markdown",
      "source": [
        "Above: 2 Bar Graphs showing the correlation between (graph 1) bmi,  (graph 2) average glucose level and whether or not a person has a stoke. From looking at both graphs I am able to see that the higher a persons bmi and average glucose level is, the more likely they are to have a stroke "
      ],
      "metadata": {
        "id": "HPGJ8QRT7XxZ"
      }
    },
    {
      "cell_type": "markdown",
      "source": [
        "# Preprocessing"
      ],
      "metadata": {
        "id": "cncSxXbOiUug"
      }
    },
    {
      "cell_type": "code",
      "source": [
        "# Assign your target vector and features matrix\n",
        "y = df['stroke']\n",
        "X = df.drop(columns = 'stroke')"
      ],
      "metadata": {
        "id": "64FZMSmiiZvF"
      },
      "execution_count": 23,
      "outputs": []
    },
    {
      "cell_type": "code",
      "source": [
        "# split the Data\n",
        "X_train, X_test, y_train, y_test = train_test_split(X, y, random_state=42)"
      ],
      "metadata": {
        "id": "8C-0Q5Sqjj3C"
      },
      "execution_count": 24,
      "outputs": []
    },
    {
      "cell_type": "code",
      "source": [
        "# make column selectors\n",
        "cat_sel = make_column_selector(dtype_include='object')\n",
        "num_sel = make_column_selector(dtype_include='number')"
      ],
      "metadata": {
        "id": "0y_qIDCsjlWZ"
      },
      "execution_count": 25,
      "outputs": []
    },
    {
      "cell_type": "code",
      "source": [
        "# instantiate imputers\n",
        "med_imputer = SimpleImputer(strategy='median')\n",
        "freq_imputer = SimpleImputer(strategy='most_frequent')"
      ],
      "metadata": {
        "id": "wVYheiu2jsUC"
      },
      "execution_count": 26,
      "outputs": []
    },
    {
      "cell_type": "code",
      "source": [
        "# instantiate the ohe and the scaler\n",
        "ohe = OneHotEncoder(sparse=False, handle_unknown='ignore')\n",
        "scaler = StandardScaler()"
      ],
      "metadata": {
        "id": "Ijx68KcyjuKo"
      },
      "execution_count": 27,
      "outputs": []
    },
    {
      "cell_type": "code",
      "source": [
        "# build pipelines\n",
        "cat_pipe = make_pipeline(freq_imputer, ohe)\n",
        "num_pipe = make_pipeline(med_imputer, scaler)"
      ],
      "metadata": {
        "id": "d6fP6ddLjyv8"
      },
      "execution_count": 28,
      "outputs": []
    },
    {
      "cell_type": "code",
      "source": [
        "# build tuples\n",
        "cat_tuple = (cat_pipe, cat_sel)\n",
        "num_tuple = (num_pipe, num_sel)"
      ],
      "metadata": {
        "id": "yMg0ztMvj4au"
      },
      "execution_count": 29,
      "outputs": []
    },
    {
      "cell_type": "code",
      "source": [
        "pp_col_trans = make_column_transformer(cat_tuple, num_tuple, remainder='passthrough')\n",
        "pp_col_trans"
      ],
      "metadata": {
        "colab": {
          "base_uri": "https://localhost:8080/"
        },
        "id": "9-u36LW4j8Jn",
        "outputId": "27e80c10-4183-48e0-ac61-394349298f41"
      },
      "execution_count": 30,
      "outputs": [
        {
          "output_type": "execute_result",
          "data": {
            "text/plain": [
              "ColumnTransformer(remainder='passthrough',\n",
              "                  transformers=[('pipeline-1',\n",
              "                                 Pipeline(steps=[('simpleimputer',\n",
              "                                                  SimpleImputer(strategy='most_frequent')),\n",
              "                                                 ('onehotencoder',\n",
              "                                                  OneHotEncoder(handle_unknown='ignore',\n",
              "                                                                sparse=False))]),\n",
              "                                 <sklearn.compose._column_transformer.make_column_selector object at 0x7ff7d2bb5f10>),\n",
              "                                ('pipeline-2',\n",
              "                                 Pipeline(steps=[('simpleimputer',\n",
              "                                                  SimpleImputer(strategy='median')),\n",
              "                                                 ('standardscaler',\n",
              "                                                  StandardScaler())]),\n",
              "                                 <sklearn.compose._column_transformer.make_column_selector object at 0x7ff7d2bb5790>)])"
            ]
          },
          "metadata": {},
          "execution_count": 30
        }
      ]
    },
    {
      "cell_type": "code",
      "source": [
        "pp_col_trans.fit(X_train)"
      ],
      "metadata": {
        "colab": {
          "base_uri": "https://localhost:8080/"
        },
        "id": "_nJpf5vtkA3K",
        "outputId": "14fdf661-d508-49b2-e588-22dd5fe1932f"
      },
      "execution_count": 31,
      "outputs": [
        {
          "output_type": "execute_result",
          "data": {
            "text/plain": [
              "ColumnTransformer(remainder='passthrough',\n",
              "                  transformers=[('pipeline-1',\n",
              "                                 Pipeline(steps=[('simpleimputer',\n",
              "                                                  SimpleImputer(strategy='most_frequent')),\n",
              "                                                 ('onehotencoder',\n",
              "                                                  OneHotEncoder(handle_unknown='ignore',\n",
              "                                                                sparse=False))]),\n",
              "                                 <sklearn.compose._column_transformer.make_column_selector object at 0x7ff7d2bb5f10>),\n",
              "                                ('pipeline-2',\n",
              "                                 Pipeline(steps=[('simpleimputer',\n",
              "                                                  SimpleImputer(strategy='median')),\n",
              "                                                 ('standardscaler',\n",
              "                                                  StandardScaler())]),\n",
              "                                 <sklearn.compose._column_transformer.make_column_selector object at 0x7ff7d2bb5790>)])"
            ]
          },
          "metadata": {},
          "execution_count": 31
        }
      ]
    },
    {
      "cell_type": "code",
      "source": [
        "# Model Predictions\n",
        "train_pred = pp_col_trans.transform(X_train)\n",
        "test_pred = pp_col_trans.transform(X_test)"
      ],
      "metadata": {
        "id": "078Id7EbkGY_"
      },
      "execution_count": 32,
      "outputs": []
    },
    {
      "cell_type": "markdown",
      "source": [
        "# Classification Models"
      ],
      "metadata": {
        "id": "LqPd7etfkPP3"
      }
    },
    {
      "cell_type": "code",
      "source": [
        "# Step 1: Imports (done at beginning)\n",
        "# Step 2: Make an instance of the Model\n",
        "dec_tree = DecisionTreeClassifier(random_state = 42)"
      ],
      "metadata": {
        "id": "2fkzXqXzkUUL"
      },
      "execution_count": 33,
      "outputs": []
    },
    {
      "cell_type": "code",
      "source": [
        "col_transformer = make_column_transformer(num_tuple, cat_tuple, remainder = 'passthrough')\n",
        "dec_tree_pipe = make_pipeline(col_transformer, dec_tree)"
      ],
      "metadata": {
        "id": "hrytjkbeko69"
      },
      "execution_count": 34,
      "outputs": []
    },
    {
      "cell_type": "code",
      "source": [
        "dec_tree_pipe.fit(X_train, y_train)"
      ],
      "metadata": {
        "colab": {
          "base_uri": "https://localhost:8080/"
        },
        "id": "nD3EI723kr6Z",
        "outputId": "5a2d18ad-43c6-40cb-c874-a842fe134062"
      },
      "execution_count": 35,
      "outputs": [
        {
          "output_type": "execute_result",
          "data": {
            "text/plain": [
              "Pipeline(steps=[('columntransformer',\n",
              "                 ColumnTransformer(remainder='passthrough',\n",
              "                                   transformers=[('pipeline-1',\n",
              "                                                  Pipeline(steps=[('simpleimputer',\n",
              "                                                                   SimpleImputer(strategy='median')),\n",
              "                                                                  ('standardscaler',\n",
              "                                                                   StandardScaler())]),\n",
              "                                                  <sklearn.compose._column_transformer.make_column_selector object at 0x7ff7d2bb5790>),\n",
              "                                                 ('pipeline-2',\n",
              "                                                  Pipeline(steps=[('simpleimputer',\n",
              "                                                                   SimpleImputer(strategy='most_frequent')),\n",
              "                                                                  ('onehotencoder',\n",
              "                                                                   OneHotEncoder(handle_unknown='ignore',\n",
              "                                                                                 sparse=False))]),\n",
              "                                                  <sklearn.compose._column_transformer.make_column_selector object at 0x7ff7d2bb5f10>)])),\n",
              "                ('decisiontreeclassifier',\n",
              "                 DecisionTreeClassifier(random_state=42))])"
            ]
          },
          "metadata": {},
          "execution_count": 35
        }
      ]
    },
    {
      "cell_type": "code",
      "source": [
        "# Step 4: Predict the labels of new data\n",
        "dec_tree_pipe.predict(X_test)"
      ],
      "metadata": {
        "colab": {
          "base_uri": "https://localhost:8080/"
        },
        "id": "CbvOsCy6kyTE",
        "outputId": "24427f30-af39-4c6a-8390-99aad4647478"
      },
      "execution_count": 36,
      "outputs": [
        {
          "output_type": "execute_result",
          "data": {
            "text/plain": [
              "array([0, 0, 0, ..., 1, 1, 0])"
            ]
          },
          "metadata": {},
          "execution_count": 36
        }
      ]
    },
    {
      "cell_type": "code",
      "source": [
        "# Step 5: Evaluate your model performance\n",
        "# calculate classification accuracy\n",
        "train_score = dec_tree_pipe.score(X_train, y_train)\n",
        "test_score = dec_tree_pipe.score(X_test, y_test)\n",
        "print(train_score)\n",
        "print(test_score)"
      ],
      "metadata": {
        "colab": {
          "base_uri": "https://localhost:8080/"
        },
        "id": "bIhNLaydk39i",
        "outputId": "cae38823-e8fc-4d4f-ea64-03291efcb1e0"
      },
      "execution_count": 37,
      "outputs": [
        {
          "output_type": "stream",
          "name": "stdout",
          "text": [
            "1.0\n",
            "0.9021909233176839\n"
          ]
        }
      ]
    },
    {
      "cell_type": "code",
      "source": [
        "#Create a DecisionTreeClassifier model\n",
        "dec_tree_pipe.fit(X_train, y_train)\n",
        "dec_tree_pipe.predict(X_test)\n",
        "dec_tree_pipe.score(X, y)"
      ],
      "metadata": {
        "colab": {
          "base_uri": "https://localhost:8080/"
        },
        "id": "9gnUHPT3k8_P",
        "outputId": "a5c21244-7db0-499e-c808-9e3880ca750e"
      },
      "execution_count": 38,
      "outputs": [
        {
          "output_type": "execute_result",
          "data": {
            "text/plain": [
              "0.9755381604696673"
            ]
          },
          "metadata": {},
          "execution_count": 38
        }
      ]
    },
    {
      "cell_type": "code",
      "source": [
        "# Step 1: Imports\n",
        "# Step 2: Make an instance of the Model\n",
        "rf = RandomForestClassifier(random_state = 42)"
      ],
      "metadata": {
        "id": "2A16gJvnlU9u"
      },
      "execution_count": 39,
      "outputs": []
    },
    {
      "cell_type": "code",
      "source": [
        "# Step 3: Create a modeling pipeline\n",
        "rf_pipe = make_pipeline(col_transformer, rf)"
      ],
      "metadata": {
        "id": "YolLG0HUlW0s"
      },
      "execution_count": 40,
      "outputs": []
    },
    {
      "cell_type": "code",
      "source": [
        "# Step 4: Training the model on the data\n",
        "rf_pipe.fit(X_train, y_train)"
      ],
      "metadata": {
        "colab": {
          "base_uri": "https://localhost:8080/"
        },
        "id": "jwmzrGbflaOO",
        "outputId": "7b57a2ad-d26f-4634-b377-ea26ec12e8f1"
      },
      "execution_count": 41,
      "outputs": [
        {
          "output_type": "execute_result",
          "data": {
            "text/plain": [
              "Pipeline(steps=[('columntransformer',\n",
              "                 ColumnTransformer(remainder='passthrough',\n",
              "                                   transformers=[('pipeline-1',\n",
              "                                                  Pipeline(steps=[('simpleimputer',\n",
              "                                                                   SimpleImputer(strategy='median')),\n",
              "                                                                  ('standardscaler',\n",
              "                                                                   StandardScaler())]),\n",
              "                                                  <sklearn.compose._column_transformer.make_column_selector object at 0x7ff7d2bb5790>),\n",
              "                                                 ('pipeline-2',\n",
              "                                                  Pipeline(steps=[('simpleimputer',\n",
              "                                                                   SimpleImputer(strategy='most_frequent')),\n",
              "                                                                  ('onehotencoder',\n",
              "                                                                   OneHotEncoder(handle_unknown='ignore',\n",
              "                                                                                 sparse=False))]),\n",
              "                                                  <sklearn.compose._column_transformer.make_column_selector object at 0x7ff7d2bb5f10>)])),\n",
              "                ('randomforestclassifier',\n",
              "                 RandomForestClassifier(random_state=42))])"
            ]
          },
          "metadata": {},
          "execution_count": 41
        }
      ]
    },
    {
      "cell_type": "code",
      "source": [
        "# Step 5: Predict the labels of new data\n",
        "rf_pipe.predict(X_test)"
      ],
      "metadata": {
        "colab": {
          "base_uri": "https://localhost:8080/"
        },
        "id": "jdcwB0ZUleZO",
        "outputId": "75f7d190-0bab-4570-ff50-3d5c3e224d27"
      },
      "execution_count": 42,
      "outputs": [
        {
          "output_type": "execute_result",
          "data": {
            "text/plain": [
              "array([0, 0, 0, ..., 0, 0, 0])"
            ]
          },
          "metadata": {},
          "execution_count": 42
        }
      ]
    },
    {
      "cell_type": "code",
      "source": [
        "# Step 6: Evaluate your model performance\n",
        "# calculate classification accuracy\n",
        "train_score = rf_pipe.score(X_train, y_train)\n",
        "test_score = rf_pipe.score(X_test, y_test)\n",
        "print(train_score)\n",
        "print(test_score)"
      ],
      "metadata": {
        "colab": {
          "base_uri": "https://localhost:8080/"
        },
        "id": "_dk0igs4lipR",
        "outputId": "13ecee0f-f1e6-497a-f683-df256228b435"
      },
      "execution_count": 43,
      "outputs": [
        {
          "output_type": "stream",
          "name": "stdout",
          "text": [
            "1.0\n",
            "0.9374021909233177\n"
          ]
        }
      ]
    },
    {
      "cell_type": "code",
      "source": [
        "#Create a RandomForestClassifier model\n",
        "rf = RandomForestClassifier(random_state = 42)\n",
        "rf_pipe.fit(X_train, y_train)\n",
        "rf_pipe.predict(X_test)\n",
        "rf_pipe.score(X, y)"
      ],
      "metadata": {
        "colab": {
          "base_uri": "https://localhost:8080/"
        },
        "id": "U0J27gjzlm5_",
        "outputId": "1406ad26-19b8-4fd4-d791-3b82c5ddc072"
      },
      "execution_count": 44,
      "outputs": [
        {
          "output_type": "execute_result",
          "data": {
            "text/plain": [
              "0.9843444227005871"
            ]
          },
          "metadata": {},
          "execution_count": 44
        }
      ]
    },
    {
      "cell_type": "code",
      "source": [
        "# Step 1: Imports\n",
        "# Step 2: Make an instance of the Model\n",
        "bagclf = BaggingClassifier(random_state = 42)"
      ],
      "metadata": {
        "id": "UAGJmnE3l9DZ"
      },
      "execution_count": 45,
      "outputs": []
    },
    {
      "cell_type": "code",
      "source": [
        "# Step 3: Create a modeling pipeline\n",
        "bagclf_pipe = make_pipeline(col_transformer, bagclf)"
      ],
      "metadata": {
        "id": "RUwPJTfXmBY7"
      },
      "execution_count": 46,
      "outputs": []
    },
    {
      "cell_type": "code",
      "source": [
        "# Step 4: Training the model on the data\n",
        "bagclf_pipe.fit(X_train, y_train)"
      ],
      "metadata": {
        "colab": {
          "base_uri": "https://localhost:8080/"
        },
        "id": "mkADI5L4mCov",
        "outputId": "5cd03d94-d60d-4fec-c543-953ff52df559"
      },
      "execution_count": 47,
      "outputs": [
        {
          "output_type": "execute_result",
          "data": {
            "text/plain": [
              "Pipeline(steps=[('columntransformer',\n",
              "                 ColumnTransformer(remainder='passthrough',\n",
              "                                   transformers=[('pipeline-1',\n",
              "                                                  Pipeline(steps=[('simpleimputer',\n",
              "                                                                   SimpleImputer(strategy='median')),\n",
              "                                                                  ('standardscaler',\n",
              "                                                                   StandardScaler())]),\n",
              "                                                  <sklearn.compose._column_transformer.make_column_selector object at 0x7ff7d2bb5790>),\n",
              "                                                 ('pipeline-2',\n",
              "                                                  Pipeline(steps=[('simpleimputer',\n",
              "                                                                   SimpleImputer(strategy='most_frequent')),\n",
              "                                                                  ('onehotencoder',\n",
              "                                                                   OneHotEncoder(handle_unknown='ignore',\n",
              "                                                                                 sparse=False))]),\n",
              "                                                  <sklearn.compose._column_transformer.make_column_selector object at 0x7ff7d2bb5f10>)])),\n",
              "                ('baggingclassifier', BaggingClassifier(random_state=42))])"
            ]
          },
          "metadata": {},
          "execution_count": 47
        }
      ]
    },
    {
      "cell_type": "code",
      "source": [
        "# Step 5: Predict the labels of new data\n",
        "bagclf_pipe.predict(X_test)"
      ],
      "metadata": {
        "colab": {
          "base_uri": "https://localhost:8080/"
        },
        "id": "v7Yi50xQmFR-",
        "outputId": "159c377b-a185-48e8-d79c-c158ba201590"
      },
      "execution_count": 48,
      "outputs": [
        {
          "output_type": "execute_result",
          "data": {
            "text/plain": [
              "array([0, 0, 0, ..., 0, 0, 0])"
            ]
          },
          "metadata": {},
          "execution_count": 48
        }
      ]
    },
    {
      "cell_type": "code",
      "source": [
        "# Step 6: Evaluate your model performance\n",
        "# calculate classification accuracy\n",
        "train_score = bagclf_pipe.score(X_train, y_train)\n",
        "test_score = bagclf_pipe.score(X_test, y_test)\n",
        "print(train_score)\n",
        "print(test_score)"
      ],
      "metadata": {
        "colab": {
          "base_uri": "https://localhost:8080/"
        },
        "id": "pkudRIVGmK9l",
        "outputId": "949ff2ab-488b-435f-95f5-a52a825c8049"
      },
      "execution_count": 49,
      "outputs": [
        {
          "output_type": "stream",
          "name": "stdout",
          "text": [
            "0.9929540709812108\n",
            "0.935054773082942\n"
          ]
        }
      ]
    },
    {
      "cell_type": "code",
      "source": [
        "#Create a BaggedTreeClassifier model\n",
        "bagclf_pipe.fit(X_train, y_train)\n",
        "bagclf_pipe.predict(X_test)\n",
        "bagclf_pipe.score(X, y)"
      ],
      "metadata": {
        "colab": {
          "base_uri": "https://localhost:8080/"
        },
        "id": "mTe_496dmP9u",
        "outputId": "499b756c-5db0-4277-e444-8cb11786f978"
      },
      "execution_count": 50,
      "outputs": [
        {
          "output_type": "execute_result",
          "data": {
            "text/plain": [
              "0.9784735812133072"
            ]
          },
          "metadata": {},
          "execution_count": 50
        }
      ]
    },
    {
      "cell_type": "markdown",
      "source": [
        "# Tuning"
      ],
      "metadata": {
        "id": "8VBCwL05miCs"
      }
    },
    {
      "cell_type": "code",
      "source": [
        "#create and visualize our parameter grid\n",
        "param_grid = {'max_depth': [1,2,3],\n",
        "              'min_samples_leaf': [3,15,20],\n",
        "              'min_samples_split': [2, 10, 100]}\n",
        "\n",
        "pd.DataFrame(param_grid).T"
      ],
      "metadata": {
        "colab": {
          "base_uri": "https://localhost:8080/",
          "height": 143
        },
        "id": "G_cOJPpqmlbV",
        "outputId": "0c1b68a6-9436-4eb2-ae6e-df41cf8e7fbe"
      },
      "execution_count": 51,
      "outputs": [
        {
          "output_type": "execute_result",
          "data": {
            "text/plain": [
              "                   0   1    2\n",
              "max_depth          1   2    3\n",
              "min_samples_leaf   3  15   20\n",
              "min_samples_split  2  10  100"
            ],
            "text/html": [
              "\n",
              "  <div id=\"df-6dd4d093-68ef-4267-9ec3-a995c4cf6175\">\n",
              "    <div class=\"colab-df-container\">\n",
              "      <div>\n",
              "<style scoped>\n",
              "    .dataframe tbody tr th:only-of-type {\n",
              "        vertical-align: middle;\n",
              "    }\n",
              "\n",
              "    .dataframe tbody tr th {\n",
              "        vertical-align: top;\n",
              "    }\n",
              "\n",
              "    .dataframe thead th {\n",
              "        text-align: right;\n",
              "    }\n",
              "</style>\n",
              "<table border=\"1\" class=\"dataframe\">\n",
              "  <thead>\n",
              "    <tr style=\"text-align: right;\">\n",
              "      <th></th>\n",
              "      <th>0</th>\n",
              "      <th>1</th>\n",
              "      <th>2</th>\n",
              "    </tr>\n",
              "  </thead>\n",
              "  <tbody>\n",
              "    <tr>\n",
              "      <th>max_depth</th>\n",
              "      <td>1</td>\n",
              "      <td>2</td>\n",
              "      <td>3</td>\n",
              "    </tr>\n",
              "    <tr>\n",
              "      <th>min_samples_leaf</th>\n",
              "      <td>3</td>\n",
              "      <td>15</td>\n",
              "      <td>20</td>\n",
              "    </tr>\n",
              "    <tr>\n",
              "      <th>min_samples_split</th>\n",
              "      <td>2</td>\n",
              "      <td>10</td>\n",
              "      <td>100</td>\n",
              "    </tr>\n",
              "  </tbody>\n",
              "</table>\n",
              "</div>\n",
              "      <button class=\"colab-df-convert\" onclick=\"convertToInteractive('df-6dd4d093-68ef-4267-9ec3-a995c4cf6175')\"\n",
              "              title=\"Convert this dataframe to an interactive table.\"\n",
              "              style=\"display:none;\">\n",
              "        \n",
              "  <svg xmlns=\"http://www.w3.org/2000/svg\" height=\"24px\"viewBox=\"0 0 24 24\"\n",
              "       width=\"24px\">\n",
              "    <path d=\"M0 0h24v24H0V0z\" fill=\"none\"/>\n",
              "    <path d=\"M18.56 5.44l.94 2.06.94-2.06 2.06-.94-2.06-.94-.94-2.06-.94 2.06-2.06.94zm-11 1L8.5 8.5l.94-2.06 2.06-.94-2.06-.94L8.5 2.5l-.94 2.06-2.06.94zm10 10l.94 2.06.94-2.06 2.06-.94-2.06-.94-.94-2.06-.94 2.06-2.06.94z\"/><path d=\"M17.41 7.96l-1.37-1.37c-.4-.4-.92-.59-1.43-.59-.52 0-1.04.2-1.43.59L10.3 9.45l-7.72 7.72c-.78.78-.78 2.05 0 2.83L4 21.41c.39.39.9.59 1.41.59.51 0 1.02-.2 1.41-.59l7.78-7.78 2.81-2.81c.8-.78.8-2.07 0-2.86zM5.41 20L4 18.59l7.72-7.72 1.47 1.35L5.41 20z\"/>\n",
              "  </svg>\n",
              "      </button>\n",
              "      \n",
              "  <style>\n",
              "    .colab-df-container {\n",
              "      display:flex;\n",
              "      flex-wrap:wrap;\n",
              "      gap: 12px;\n",
              "    }\n",
              "\n",
              "    .colab-df-convert {\n",
              "      background-color: #E8F0FE;\n",
              "      border: none;\n",
              "      border-radius: 50%;\n",
              "      cursor: pointer;\n",
              "      display: none;\n",
              "      fill: #1967D2;\n",
              "      height: 32px;\n",
              "      padding: 0 0 0 0;\n",
              "      width: 32px;\n",
              "    }\n",
              "\n",
              "    .colab-df-convert:hover {\n",
              "      background-color: #E2EBFA;\n",
              "      box-shadow: 0px 1px 2px rgba(60, 64, 67, 0.3), 0px 1px 3px 1px rgba(60, 64, 67, 0.15);\n",
              "      fill: #174EA6;\n",
              "    }\n",
              "\n",
              "    [theme=dark] .colab-df-convert {\n",
              "      background-color: #3B4455;\n",
              "      fill: #D2E3FC;\n",
              "    }\n",
              "\n",
              "    [theme=dark] .colab-df-convert:hover {\n",
              "      background-color: #434B5C;\n",
              "      box-shadow: 0px 1px 3px 1px rgba(0, 0, 0, 0.15);\n",
              "      filter: drop-shadow(0px 1px 2px rgba(0, 0, 0, 0.3));\n",
              "      fill: #FFFFFF;\n",
              "    }\n",
              "  </style>\n",
              "\n",
              "      <script>\n",
              "        const buttonEl =\n",
              "          document.querySelector('#df-6dd4d093-68ef-4267-9ec3-a995c4cf6175 button.colab-df-convert');\n",
              "        buttonEl.style.display =\n",
              "          google.colab.kernel.accessAllowed ? 'block' : 'none';\n",
              "\n",
              "        async function convertToInteractive(key) {\n",
              "          const element = document.querySelector('#df-6dd4d093-68ef-4267-9ec3-a995c4cf6175');\n",
              "          const dataTable =\n",
              "            await google.colab.kernel.invokeFunction('convertToInteractive',\n",
              "                                                     [key], {});\n",
              "          if (!dataTable) return;\n",
              "\n",
              "          const docLinkHtml = 'Like what you see? Visit the ' +\n",
              "            '<a target=\"_blank\" href=https://colab.research.google.com/notebooks/data_table.ipynb>data table notebook</a>'\n",
              "            + ' to learn more about interactive tables.';\n",
              "          element.innerHTML = '';\n",
              "          dataTable['output_type'] = 'display_data';\n",
              "          await google.colab.output.renderOutput(dataTable, element);\n",
              "          const docLink = document.createElement('div');\n",
              "          docLink.innerHTML = docLinkHtml;\n",
              "          element.appendChild(docLink);\n",
              "        }\n",
              "      </script>\n",
              "    </div>\n",
              "  </div>\n",
              "  "
            ]
          },
          "metadata": {},
          "execution_count": 51
        }
      ]
    },
    {
      "cell_type": "code",
      "source": [
        "scores = {}\n",
        "\n",
        "#loop through all combinations of values for all hyperparameters\n",
        "for d in param_grid['max_depth']:\n",
        "  for l in param_grid['min_samples_leaf']:\n",
        "    for s in param_grid['min_samples_split']:\n",
        "      #fit a model for each combination of hyperparameter values\n",
        "      dtmodel = DecisionTreeClassifier(max_depth=d,\n",
        "                                     min_samples_leaf=l,\n",
        "                                     min_samples_split=s)\n",
        "      dtmodel.fit(X_train, y_train)\n",
        "      score = dtmodel.score(X_test, y_test)\n",
        "      #add the model accuracy to a dictionary with the parameter settings as the\n",
        "      #keys and the accuracies as the values.\n",
        "      scores[f'depth {d}, min_samples_leaf {l}, min_samples_split {s} accuracy'] = score.round(6) * 100\n",
        "\n",
        "#display dictionary of scores\n",
        "scores"
      ],
      "metadata": {
        "colab": {
          "base_uri": "https://localhost:8080/"
        },
        "id": "NuvT7lI-r52u",
        "outputId": "9d21d0a6-4b2a-4faa-86e6-a3f6b742c07f"
      },
      "execution_count": 52,
      "outputs": [
        {
          "output_type": "execute_result",
          "data": {
            "text/plain": [
              "{'depth 1, min_samples_leaf 3, min_samples_split 2 accuracy': 93.7402,\n",
              " 'depth 1, min_samples_leaf 3, min_samples_split 10 accuracy': 93.7402,\n",
              " 'depth 1, min_samples_leaf 3, min_samples_split 100 accuracy': 93.7402,\n",
              " 'depth 1, min_samples_leaf 15, min_samples_split 2 accuracy': 93.7402,\n",
              " 'depth 1, min_samples_leaf 15, min_samples_split 10 accuracy': 93.7402,\n",
              " 'depth 1, min_samples_leaf 15, min_samples_split 100 accuracy': 93.7402,\n",
              " 'depth 1, min_samples_leaf 20, min_samples_split 2 accuracy': 93.7402,\n",
              " 'depth 1, min_samples_leaf 20, min_samples_split 10 accuracy': 93.7402,\n",
              " 'depth 1, min_samples_leaf 20, min_samples_split 100 accuracy': 93.7402,\n",
              " 'depth 2, min_samples_leaf 3, min_samples_split 2 accuracy': 93.7402,\n",
              " 'depth 2, min_samples_leaf 3, min_samples_split 10 accuracy': 93.7402,\n",
              " 'depth 2, min_samples_leaf 3, min_samples_split 100 accuracy': 93.7402,\n",
              " 'depth 2, min_samples_leaf 15, min_samples_split 2 accuracy': 93.7402,\n",
              " 'depth 2, min_samples_leaf 15, min_samples_split 10 accuracy': 93.7402,\n",
              " 'depth 2, min_samples_leaf 15, min_samples_split 100 accuracy': 93.7402,\n",
              " 'depth 2, min_samples_leaf 20, min_samples_split 2 accuracy': 93.7402,\n",
              " 'depth 2, min_samples_leaf 20, min_samples_split 10 accuracy': 93.7402,\n",
              " 'depth 2, min_samples_leaf 20, min_samples_split 100 accuracy': 93.7402,\n",
              " 'depth 3, min_samples_leaf 3, min_samples_split 2 accuracy': 93.8185,\n",
              " 'depth 3, min_samples_leaf 3, min_samples_split 10 accuracy': 93.8185,\n",
              " 'depth 3, min_samples_leaf 3, min_samples_split 100 accuracy': 93.7402,\n",
              " 'depth 3, min_samples_leaf 15, min_samples_split 2 accuracy': 93.8185,\n",
              " 'depth 3, min_samples_leaf 15, min_samples_split 10 accuracy': 93.8185,\n",
              " 'depth 3, min_samples_leaf 15, min_samples_split 100 accuracy': 93.7402,\n",
              " 'depth 3, min_samples_leaf 20, min_samples_split 2 accuracy': 93.7402,\n",
              " 'depth 3, min_samples_leaf 20, min_samples_split 10 accuracy': 93.7402,\n",
              " 'depth 3, min_samples_leaf 20, min_samples_split 100 accuracy': 93.7402}"
            ]
          },
          "metadata": {},
          "execution_count": 52
        }
      ]
    },
    {
      "cell_type": "code",
      "source": [
        "dtparam_grid2 = {'max_depth': [3, 5, 10],\n",
        "              'min_samples_leaf': [1, 2, 3],\n",
        "              'min_samples_split': [2, 4, 7]}\n",
        "\n",
        "dt_grid_search2 = GridSearchCV(dtmodel, dtparam_grid2)\n",
        "dt_grid_search2.fit(X_train, y_train)\n",
        "dt_grid_search2.best_params_"
      ],
      "metadata": {
        "colab": {
          "base_uri": "https://localhost:8080/"
        },
        "id": "XHK_2joVr8kg",
        "outputId": "c3b360ff-667b-4a62-f2d3-f248454cece5"
      },
      "execution_count": 53,
      "outputs": [
        {
          "output_type": "execute_result",
          "data": {
            "text/plain": [
              "{'max_depth': 3, 'min_samples_leaf': 1, 'min_samples_split': 2}"
            ]
          },
          "metadata": {},
          "execution_count": 53
        }
      ]
    },
    {
      "cell_type": "code",
      "source": [
        "#retrieve the best version of the model\n",
        "best_model = dt_grid_search2.best_estimator_\n",
        "\n",
        "#refit the model on the whole training set\n",
        "best_model.fit(X_train, y_train)\n",
        "#score the model on the test set\n",
        "best_model.score(X_test, y_test)"
      ],
      "metadata": {
        "colab": {
          "base_uri": "https://localhost:8080/"
        },
        "id": "jolrvSRjsDUh",
        "outputId": "6cb22bd8-ae83-418c-e0c3-1d1a1bbe2a58"
      },
      "execution_count": 54,
      "outputs": [
        {
          "output_type": "execute_result",
          "data": {
            "text/plain": [
              "0.9381846635367762"
            ]
          },
          "metadata": {},
          "execution_count": 54
        }
      ]
    },
    {
      "cell_type": "code",
      "source": [
        "scores = {}\n",
        "\n",
        "#loop through all combinations of values for all hyperparameters\n",
        "for d in param_grid['max_depth']:\n",
        "  for l in param_grid['min_samples_leaf']:\n",
        "    for s in param_grid['min_samples_split']:\n",
        "      #fit a model for each combination of hyperparameter values\n",
        "      rfmodel = RandomForestClassifier(max_depth=d,\n",
        "                                     min_samples_leaf=l,\n",
        "                                     min_samples_split=s)\n",
        "      rfmodel.fit(X_train, y_train)\n",
        "      score = rfmodel.score(X_test, y_test)\n",
        "      #add the model accuracy to a dictionary with the parameter settings as the\n",
        "      #keys and the accuracies as the values.\n",
        "      scores[f'depth {d}, min_samples_leaf {l}, min_samples_split {s} accuracy'] = score.round(6) * 100\n",
        "\n",
        "#display dictionary of scores\n",
        "scores"
      ],
      "metadata": {
        "colab": {
          "base_uri": "https://localhost:8080/"
        },
        "id": "glntmseGsJA1",
        "outputId": "4feaba25-c87f-4cf9-cf52-044ddc9176a1"
      },
      "execution_count": 55,
      "outputs": [
        {
          "output_type": "execute_result",
          "data": {
            "text/plain": [
              "{'depth 1, min_samples_leaf 3, min_samples_split 2 accuracy': 93.7402,\n",
              " 'depth 1, min_samples_leaf 3, min_samples_split 10 accuracy': 93.7402,\n",
              " 'depth 1, min_samples_leaf 3, min_samples_split 100 accuracy': 93.7402,\n",
              " 'depth 1, min_samples_leaf 15, min_samples_split 2 accuracy': 93.7402,\n",
              " 'depth 1, min_samples_leaf 15, min_samples_split 10 accuracy': 93.7402,\n",
              " 'depth 1, min_samples_leaf 15, min_samples_split 100 accuracy': 93.7402,\n",
              " 'depth 1, min_samples_leaf 20, min_samples_split 2 accuracy': 93.7402,\n",
              " 'depth 1, min_samples_leaf 20, min_samples_split 10 accuracy': 93.7402,\n",
              " 'depth 1, min_samples_leaf 20, min_samples_split 100 accuracy': 93.7402,\n",
              " 'depth 2, min_samples_leaf 3, min_samples_split 2 accuracy': 93.7402,\n",
              " 'depth 2, min_samples_leaf 3, min_samples_split 10 accuracy': 93.7402,\n",
              " 'depth 2, min_samples_leaf 3, min_samples_split 100 accuracy': 93.7402,\n",
              " 'depth 2, min_samples_leaf 15, min_samples_split 2 accuracy': 93.7402,\n",
              " 'depth 2, min_samples_leaf 15, min_samples_split 10 accuracy': 93.7402,\n",
              " 'depth 2, min_samples_leaf 15, min_samples_split 100 accuracy': 93.7402,\n",
              " 'depth 2, min_samples_leaf 20, min_samples_split 2 accuracy': 93.7402,\n",
              " 'depth 2, min_samples_leaf 20, min_samples_split 10 accuracy': 93.7402,\n",
              " 'depth 2, min_samples_leaf 20, min_samples_split 100 accuracy': 93.7402,\n",
              " 'depth 3, min_samples_leaf 3, min_samples_split 2 accuracy': 93.7402,\n",
              " 'depth 3, min_samples_leaf 3, min_samples_split 10 accuracy': 93.7402,\n",
              " 'depth 3, min_samples_leaf 3, min_samples_split 100 accuracy': 93.7402,\n",
              " 'depth 3, min_samples_leaf 15, min_samples_split 2 accuracy': 93.7402,\n",
              " 'depth 3, min_samples_leaf 15, min_samples_split 10 accuracy': 93.7402,\n",
              " 'depth 3, min_samples_leaf 15, min_samples_split 100 accuracy': 93.7402,\n",
              " 'depth 3, min_samples_leaf 20, min_samples_split 2 accuracy': 93.7402,\n",
              " 'depth 3, min_samples_leaf 20, min_samples_split 10 accuracy': 93.7402,\n",
              " 'depth 3, min_samples_leaf 20, min_samples_split 100 accuracy': 93.7402}"
            ]
          },
          "metadata": {},
          "execution_count": 55
        }
      ]
    },
    {
      "cell_type": "code",
      "source": [
        "rfmodel = RandomForestClassifier()\n",
        "\n",
        "param_grid = {'max_depth': [1,2,3],\n",
        "              'min_samples_leaf': [3,15,20],\n",
        "              'min_samples_split': [2, 10, 100]}"
      ],
      "metadata": {
        "id": "xw1Dsf7rsah8"
      },
      "execution_count": 56,
      "outputs": []
    },
    {
      "cell_type": "code",
      "source": [
        "rf_grid_search = GridSearchCV(rfmodel, param_grid)"
      ],
      "metadata": {
        "id": "fiiKbG95scKD"
      },
      "execution_count": 57,
      "outputs": []
    },
    {
      "cell_type": "code",
      "source": [
        "rf_grid_search.fit(X_train, y_train)"
      ],
      "metadata": {
        "colab": {
          "base_uri": "https://localhost:8080/"
        },
        "id": "yvXaczMqsgvu",
        "outputId": "2328364e-79c5-4a66-d071-1d9f99e376fc"
      },
      "execution_count": 58,
      "outputs": [
        {
          "output_type": "execute_result",
          "data": {
            "text/plain": [
              "GridSearchCV(estimator=RandomForestClassifier(),\n",
              "             param_grid={'max_depth': [1, 2, 3],\n",
              "                         'min_samples_leaf': [3, 15, 20],\n",
              "                         'min_samples_split': [2, 10, 100]})"
            ]
          },
          "metadata": {},
          "execution_count": 58
        }
      ]
    },
    {
      "cell_type": "code",
      "source": [
        "rf_grid_search.best_params_"
      ],
      "metadata": {
        "colab": {
          "base_uri": "https://localhost:8080/"
        },
        "id": "i_bzG4XMssnf",
        "outputId": "9c2e13c1-adb0-403f-d931-fad7d86d43f3"
      },
      "execution_count": 59,
      "outputs": [
        {
          "output_type": "execute_result",
          "data": {
            "text/plain": [
              "{'max_depth': 1, 'min_samples_leaf': 3, 'min_samples_split': 2}"
            ]
          },
          "metadata": {},
          "execution_count": 59
        }
      ]
    },
    {
      "cell_type": "code",
      "source": [
        "rfparam_grid2 = {'max_depth': [3, 5, 10],\n",
        "              'min_samples_leaf': [1, 2, 3],\n",
        "              'min_samples_split': [2, 4, 7]}\n",
        "\n",
        "rf_grid_search2 = GridSearchCV(rfmodel, rfparam_grid2)\n",
        "rf_grid_search2.fit(X_train, y_train)\n",
        "rf_grid_search2.best_params_"
      ],
      "metadata": {
        "colab": {
          "base_uri": "https://localhost:8080/"
        },
        "id": "7wb-j4MsswYG",
        "outputId": "a3ef3bdb-9463-4aad-e498-e7da5c11d103"
      },
      "execution_count": 60,
      "outputs": [
        {
          "output_type": "execute_result",
          "data": {
            "text/plain": [
              "{'max_depth': 10, 'min_samples_leaf': 1, 'min_samples_split': 2}"
            ]
          },
          "metadata": {},
          "execution_count": 60
        }
      ]
    },
    {
      "cell_type": "code",
      "source": [
        "#retrieve the best version of the model\n",
        "best_model = rf_grid_search2.best_estimator_\n",
        "\n",
        "#refit the model on the whole training set\n",
        "best_model.fit(X_train, y_train)\n",
        "#score the model on the test set\n",
        "best_model.score(X_test, y_test)"
      ],
      "metadata": {
        "colab": {
          "base_uri": "https://localhost:8080/"
        },
        "id": "TiZ_sLhjtHGO",
        "outputId": "6c0f7f57-4c52-4e12-8ca7-8c9329a99a8f"
      },
      "execution_count": 61,
      "outputs": [
        {
          "output_type": "execute_result",
          "data": {
            "text/plain": [
              "0.9374021909233177"
            ]
          },
          "metadata": {},
          "execution_count": 61
        }
      ]
    },
    {
      "cell_type": "code",
      "source": [
        "knn_pipe = make_pipeline(StandardScaler(), KNeighborsClassifier())\n",
        "knn_pipe.get_params()"
      ],
      "metadata": {
        "colab": {
          "base_uri": "https://localhost:8080/"
        },
        "id": "-x94xPFLtI8w",
        "outputId": "39a8071b-16af-4ddd-bfd7-3c5c96ae1334"
      },
      "execution_count": 62,
      "outputs": [
        {
          "output_type": "execute_result",
          "data": {
            "text/plain": [
              "{'memory': None,\n",
              " 'steps': [('standardscaler', StandardScaler()),\n",
              "  ('kneighborsclassifier', KNeighborsClassifier())],\n",
              " 'verbose': False,\n",
              " 'standardscaler': StandardScaler(),\n",
              " 'kneighborsclassifier': KNeighborsClassifier(),\n",
              " 'standardscaler__copy': True,\n",
              " 'standardscaler__with_mean': True,\n",
              " 'standardscaler__with_std': True,\n",
              " 'kneighborsclassifier__algorithm': 'auto',\n",
              " 'kneighborsclassifier__leaf_size': 30,\n",
              " 'kneighborsclassifier__metric': 'minkowski',\n",
              " 'kneighborsclassifier__metric_params': None,\n",
              " 'kneighborsclassifier__n_jobs': None,\n",
              " 'kneighborsclassifier__n_neighbors': 5,\n",
              " 'kneighborsclassifier__p': 2,\n",
              " 'kneighborsclassifier__weights': 'uniform'}"
            ]
          },
          "metadata": {},
          "execution_count": 62
        }
      ]
    },
    {
      "cell_type": "code",
      "source": [
        "pipe_param_grid = {'kneighborsclassifier__n_neighbors': range(1,10),\n",
        "              'kneighborsclassifier__p': range(1,5),\n",
        "              'kneighborsclassifier__weights': ['distance','uniform']}"
      ],
      "metadata": {
        "id": "sbPxeGN7tRvi"
      },
      "execution_count": 63,
      "outputs": []
    },
    {
      "cell_type": "code",
      "source": [
        "knn_pipe_gs = GridSearchCV(knn_pipe, pipe_param_grid)\n",
        "\n",
        "knn_pipe_gs.fit(X_train, y_train)\n",
        "print('Best KNN Parameters:')\n",
        "print(knn_pipe_gs.best_params_)\n",
        "best_pipe = knn_pipe_gs.best_estimator_\n",
        "print(f'Accuracy of best KNN model is: {best_pipe.score(X_test, y_test)}')"
      ],
      "metadata": {
        "colab": {
          "base_uri": "https://localhost:8080/"
        },
        "id": "m_dN4DvctTIb",
        "outputId": "c8b758c2-baf1-4194-a660-19ceb67acd83"
      },
      "execution_count": 64,
      "outputs": [
        {
          "output_type": "stream",
          "name": "stdout",
          "text": [
            "Best KNN Parameters:\n",
            "{'kneighborsclassifier__n_neighbors': 8, 'kneighborsclassifier__p': 1, 'kneighborsclassifier__weights': 'uniform'}\n",
            "Accuracy of best KNN model is: 0.9374021909233177\n"
          ]
        }
      ]
    },
    {
      "cell_type": "markdown",
      "source": [
        "# PCA"
      ],
      "metadata": {
        "id": "6p6Ao80DxYeC"
      }
    },
    {
      "cell_type": "code",
      "source": [
        "# We must scale the data for use in PCA (done earlier)\n",
        "\n",
        "# We are asking for the number of Principal Components that will retain 95% of the variance in the original features\n",
        "pca = PCA(n_components = .95)\n",
        "\n",
        "# Preprocessing Pipeline, so we can reuse it for other model types:\n",
        "# We have only numeric data, so there is no need for a column transformer.  \n",
        "# We can perform the same processing steps on all columns.\n",
        "processing = make_pipeline(scaler, pca)\n",
        "\n",
        "print('Shape before PCA:', X_train.shape)\n",
        "print('Shape after PCA:', processing.fit_transform(X_train).shape)\n",
        "print('Column count reduced by: ', X_train.shape[1] - processing.fit_transform(X_train).shape[1])"
      ],
      "metadata": {
        "colab": {
          "base_uri": "https://localhost:8080/"
        },
        "id": "6isui-otxain",
        "outputId": "184fb612-8745-416d-d504-f8b57a2c86a0"
      },
      "execution_count": 65,
      "outputs": [
        {
          "output_type": "stream",
          "name": "stdout",
          "text": [
            "Shape before PCA: (3832, 10)\n",
            "Shape after PCA: (3832, 9)\n",
            "Column count reduced by:  1\n"
          ]
        }
      ]
    },
    {
      "cell_type": "code",
      "source": [
        "def eval_classification(model, X_train, X_test, y_train, y_test):\n",
        "  print('Train Report:', classification_report(y_train, model.predict(X_train)))\n",
        "  print('Test Report:', classification_report(y_test, model.predict(X_test)))\n",
        "\n",
        "  cm = confusion_matrix(y_test, model.predict(X_test))\n",
        "\n",
        "  plt.figure(figsize=(15, 15))\n",
        "  heatmap(cm, annot=True)\n",
        "  plt.xlabel('Predicted', fontsize=40)\n",
        "  plt.ylabel('True', fontsize=40)\n",
        "  plt.show()"
      ],
      "metadata": {
        "id": "hDKevdJxxt6u"
      },
      "execution_count": 66,
      "outputs": []
    },
    {
      "cell_type": "code",
      "source": [
        "%%time\n",
        "# Without PCA\n",
        "knn = KNeighborsClassifier()\n",
        "\n",
        "# Now we will build the pipeline\n",
        "knn_pipe = make_pipeline(scaler, knn)\n",
        "knn_pipe.fit(X_train, y_train)"
      ],
      "metadata": {
        "colab": {
          "base_uri": "https://localhost:8080/"
        },
        "id": "3E4pgZLkx9GL",
        "outputId": "b2f1bbf5-db7c-4373-f6c5-27fd213a1805"
      },
      "execution_count": 67,
      "outputs": [
        {
          "output_type": "stream",
          "name": "stdout",
          "text": [
            "CPU times: user 14.8 ms, sys: 9.99 ms, total: 24.8 ms\n",
            "Wall time: 15.2 ms\n"
          ]
        },
        {
          "output_type": "execute_result",
          "data": {
            "text/plain": [
              "Pipeline(steps=[('standardscaler', StandardScaler()),\n",
              "                ('kneighborsclassifier', KNeighborsClassifier())])"
            ]
          },
          "metadata": {},
          "execution_count": 67
        }
      ]
    },
    {
      "cell_type": "code",
      "source": [
        "%%time\n",
        "# evaluate the pipeline\n",
        "eval_classification(knn_pipe, X_train, X_test, y_train, y_test)"
      ],
      "metadata": {
        "colab": {
          "base_uri": "https://localhost:8080/",
          "height": 0
        },
        "id": "ixr3jLCWx_J6",
        "outputId": "3d230c39-91c6-4657-e35a-db1425705dd0"
      },
      "execution_count": 68,
      "outputs": [
        {
          "output_type": "stream",
          "name": "stdout",
          "text": [
            "Train Report:               precision    recall  f1-score   support\n",
            "\n",
            "           0       0.96      1.00      0.98      3663\n",
            "           1       0.77      0.06      0.11       169\n",
            "\n",
            "    accuracy                           0.96      3832\n",
            "   macro avg       0.86      0.53      0.54      3832\n",
            "weighted avg       0.95      0.96      0.94      3832\n",
            "\n",
            "Test Report:               precision    recall  f1-score   support\n",
            "\n",
            "           0       0.94      1.00      0.97      1198\n",
            "           1       0.20      0.01      0.02        80\n",
            "\n",
            "    accuracy                           0.94      1278\n",
            "   macro avg       0.57      0.50      0.49      1278\n",
            "weighted avg       0.89      0.94      0.91      1278\n",
            "\n"
          ]
        },
        {
          "output_type": "display_data",
          "data": {
            "text/plain": [
              "<Figure size 1080x1080 with 2 Axes>"
            ],
            "image/png": "[encoded data removed]"
          },
          "metadata": {
            "needs_background": "light"
          }
        },
        {
          "output_type": "stream",
          "name": "stdout",
          "text": [
            "CPU times: user 726 ms, sys: 152 ms, total: 878 ms\n",
            "Wall time: 749 ms\n"
          ]
        }
      ]
    },
    {
      "cell_type": "code",
      "source": [
        "%%time\n",
        "# With PCA\n",
        "# Now we will build the pipeline\n",
        "knn_pca_pipe = make_pipeline(scaler, pca, knn)\n",
        "\n",
        "# fit the pipeline\n",
        "knn_pca_pipe.fit(X_train, y_train)"
      ],
      "metadata": {
        "colab": {
          "base_uri": "https://localhost:8080/"
        },
        "id": "ziJtvLUly90o",
        "outputId": "8ed249ab-1c61-4fe8-901a-9a26ba7ef575"
      },
      "execution_count": 69,
      "outputs": [
        {
          "output_type": "stream",
          "name": "stdout",
          "text": [
            "CPU times: user 17.7 ms, sys: 9 ms, total: 26.7 ms\n",
            "Wall time: 20.7 ms\n"
          ]
        },
        {
          "output_type": "execute_result",
          "data": {
            "text/plain": [
              "Pipeline(steps=[('standardscaler', StandardScaler()),\n",
              "                ('pca', PCA(n_components=0.95)),\n",
              "                ('kneighborsclassifier', KNeighborsClassifier())])"
            ]
          },
          "metadata": {},
          "execution_count": 69
        }
      ]
    },
    {
      "cell_type": "code",
      "source": [
        "%%time\n",
        "# evaluate the pipeline\n",
        "\n",
        "eval_classification(knn_pca_pipe, X_train, X_test, y_train, y_test)"
      ],
      "metadata": {
        "colab": {
          "base_uri": "https://localhost:8080/",
          "height": 0
        },
        "id": "bzlHmULQzOB5",
        "outputId": "5f2c79bd-f1a1-40f1-f07a-3fa9da664116"
      },
      "execution_count": 70,
      "outputs": [
        {
          "output_type": "stream",
          "name": "stdout",
          "text": [
            "Train Report:               precision    recall  f1-score   support\n",
            "\n",
            "           0       0.96      1.00      0.98      3663\n",
            "           1       0.71      0.03      0.06       169\n",
            "\n",
            "    accuracy                           0.96      3832\n",
            "   macro avg       0.84      0.51      0.52      3832\n",
            "weighted avg       0.95      0.96      0.94      3832\n",
            "\n",
            "Test Report:               precision    recall  f1-score   support\n",
            "\n",
            "           0       0.94      1.00      0.97      1198\n",
            "           1       0.00      0.00      0.00        80\n",
            "\n",
            "    accuracy                           0.94      1278\n",
            "   macro avg       0.47      0.50      0.48      1278\n",
            "weighted avg       0.88      0.94      0.91      1278\n",
            "\n"
          ]
        },
        {
          "output_type": "display_data",
          "data": {
            "text/plain": [
              "<Figure size 1080x1080 with 2 Axes>"
            ],
            "image/png": "[encoded data removed]"
          },
          "metadata": {
            "needs_background": "light"
          }
        },
        {
          "output_type": "stream",
          "name": "stdout",
          "text": [
            "CPU times: user 640 ms, sys: 203 ms, total: 843 ms\n",
            "Wall time: 633 ms\n"
          ]
        }
      ]
    },
    {
      "cell_type": "code",
      "source": [
        "ks = range(10,20)\n",
        "\n",
        "accuracies = []\n",
        "for k in ks:\n",
        "  knn = KNeighborsClassifier(n_neighbors = k)\n",
        "\n",
        "  # Now we will build the pipeline\n",
        "  knn_pca_pipe = make_pipeline(scaler, pca, knn)\n",
        "\n",
        "  # fit the pipeline\n",
        "  knn_pca_pipe.fit(X_train, y_train)\n",
        "\n",
        "  accuracies.append(knn_pca_pipe.score(X_test, y_test))\n",
        "\n",
        "plt.plot(ks, accuracies)"
      ],
      "metadata": {
        "colab": {
          "base_uri": "https://localhost:8080/",
          "height": 0
        },
        "id": "GxOZd0w_zUhv",
        "outputId": "75da35ed-6111-4a5c-a51f-c7e8375e6e7b"
      },
      "execution_count": 71,
      "outputs": [
        {
          "output_type": "execute_result",
          "data": {
            "text/plain": [
              "[<matplotlib.lines.Line2D at 0x7ff7d29e5810>]"
            ]
          },
          "metadata": {},
          "execution_count": 71
        },
        {
          "output_type": "display_data",
          "data": {
            "text/plain": [
              "<Figure size 432x288 with 1 Axes>"
            ],
            "image/png": "[encoded data removed]"
          },
          "metadata": {
            "needs_background": "light"
          }
        }
      ]
    },
    {
      "cell_type": "code",
      "source": [
        "%%time\n",
        "knn = KNeighborsClassifier(n_neighbors = 11)\n",
        "\n",
        "# Now we will build the pipeline\n",
        "knn_pca_pipe = make_pipeline(scaler, knn)\n",
        "\n",
        "# fit the pipeline\n",
        "knn_pca_pipe.fit(X_train, y_train)\n",
        "\n",
        "eval_classification(knn_pca_pipe,X_train,X_test, y_train, y_test)"
      ],
      "metadata": {
        "colab": {
          "base_uri": "https://localhost:8080/",
          "height": 0
        },
        "id": "RRPtC_kfzcCu",
        "outputId": "7d34d901-a280-4d36-da59-75fdfda7c83a"
      },
      "execution_count": 72,
      "outputs": [
        {
          "output_type": "stream",
          "name": "stderr",
          "text": [
            "/usr/local/lib/python3.7/dist-packages/sklearn/metrics/_classification.py:1318: UndefinedMetricWarning: Precision and F-score are ill-defined and being set to 0.0 in labels with no predicted samples. Use `zero_division` parameter to control this behavior.\n",
            "  _warn_prf(average, modifier, msg_start, len(result))\n",
            "/usr/local/lib/python3.7/dist-packages/sklearn/metrics/_classification.py:1318: UndefinedMetricWarning: Precision and F-score are ill-defined and being set to 0.0 in labels with no predicted samples. Use `zero_division` parameter to control this behavior.\n",
            "  _warn_prf(average, modifier, msg_start, len(result))\n",
            "/usr/local/lib/python3.7/dist-packages/sklearn/metrics/_classification.py:1318: UndefinedMetricWarning: Precision and F-score are ill-defined and being set to 0.0 in labels with no predicted samples. Use `zero_division` parameter to control this behavior.\n",
            "  _warn_prf(average, modifier, msg_start, len(result))\n",
            "/usr/local/lib/python3.7/dist-packages/sklearn/metrics/_classification.py:1318: UndefinedMetricWarning: Precision and F-score are ill-defined and being set to 0.0 in labels with no predicted samples. Use `zero_division` parameter to control this behavior.\n",
            "  _warn_prf(average, modifier, msg_start, len(result))\n",
            "/usr/local/lib/python3.7/dist-packages/sklearn/metrics/_classification.py:1318: UndefinedMetricWarning: Precision and F-score are ill-defined and being set to 0.0 in labels with no predicted samples. Use `zero_division` parameter to control this behavior.\n",
            "  _warn_prf(average, modifier, msg_start, len(result))\n",
            "/usr/local/lib/python3.7/dist-packages/sklearn/metrics/_classification.py:1318: UndefinedMetricWarning: Precision and F-score are ill-defined and being set to 0.0 in labels with no predicted samples. Use `zero_division` parameter to control this behavior.\n",
            "  _warn_prf(average, modifier, msg_start, len(result))\n"
          ]
        },
        {
          "output_type": "stream",
          "name": "stdout",
          "text": [
            "Train Report:               precision    recall  f1-score   support\n",
            "\n",
            "           0       0.96      1.00      0.98      3663\n",
            "           1       0.00      0.00      0.00       169\n",
            "\n",
            "    accuracy                           0.96      3832\n",
            "   macro avg       0.48      0.50      0.49      3832\n",
            "weighted avg       0.91      0.96      0.93      3832\n",
            "\n",
            "Test Report:               precision    recall  f1-score   support\n",
            "\n",
            "           0       0.94      1.00      0.97      1198\n",
            "           1       0.00      0.00      0.00        80\n",
            "\n",
            "    accuracy                           0.94      1278\n",
            "   macro avg       0.47      0.50      0.48      1278\n",
            "weighted avg       0.88      0.94      0.91      1278\n",
            "\n"
          ]
        },
        {
          "output_type": "display_data",
          "data": {
            "text/plain": [
              "<Figure size 1080x1080 with 2 Axes>"
            ],
            "image/png": "[encoded data removed]"
          },
          "metadata": {
            "needs_background": "light"
          }
        },
        {
          "output_type": "stream",
          "name": "stdout",
          "text": [
            "CPU times: user 774 ms, sys: 133 ms, total: 908 ms\n",
            "Wall time: 781 ms\n"
          ]
        }
      ]
    },
    {
      "cell_type": "code",
      "source": [],
      "metadata": {
        "id": "C3ETr9JIzjbY"
      },
      "execution_count": 72,
      "outputs": []
    },
    {
      "cell_type": "markdown",
      "source": [
        "# Classification Metrics"
      ],
      "metadata": {
        "id": "c8kzfi_wuvhR"
      }
    },
    {
      "cell_type": "code",
      "source": [
        "# accuracy score for decision tree model\n",
        "test_preds_dec= dec_tree_pipe.predict(X_test) \n",
        "accuracy_score(y_test, test_preds_dec)"
      ],
      "metadata": {
        "colab": {
          "base_uri": "https://localhost:8080/"
        },
        "id": "85zVKdC1u4B7",
        "outputId": "4dd2dfaf-c18e-4b38-cb3a-14ef92f42dd5"
      },
      "execution_count": 73,
      "outputs": [
        {
          "output_type": "execute_result",
          "data": {
            "text/plain": [
              "0.9021909233176839"
            ]
          },
          "metadata": {},
          "execution_count": 73
        }
      ]
    },
    {
      "cell_type": "code",
      "source": [
        "# accuracy for random forest model\n",
        "test_preds_rf= rf_pipe.predict(X_test)\n",
        "accuracy_score(y_test, test_preds_rf)"
      ],
      "metadata": {
        "colab": {
          "base_uri": "https://localhost:8080/"
        },
        "id": "O8szCm3Cu-dS",
        "outputId": "c6fb8f95-1c2d-4bd5-8bd0-74886723e280"
      },
      "execution_count": 74,
      "outputs": [
        {
          "output_type": "execute_result",
          "data": {
            "text/plain": [
              "0.9374021909233177"
            ]
          },
          "metadata": {},
          "execution_count": 74
        }
      ]
    },
    {
      "cell_type": "code",
      "source": [
        "# accuracy for bagged tree model\n",
        "test_preds_bagclf= bagclf_pipe.predict(X_test)\n",
        "accuracy_score(y_test, test_preds_bagclf)"
      ],
      "metadata": {
        "colab": {
          "base_uri": "https://localhost:8080/"
        },
        "id": "Ax5r2NGKvMLM",
        "outputId": "4fef81a8-02cc-4666-fe39-b669380814d5"
      },
      "execution_count": 75,
      "outputs": [
        {
          "output_type": "execute_result",
          "data": {
            "text/plain": [
              "0.935054773082942"
            ]
          },
          "metadata": {},
          "execution_count": 75
        }
      ]
    },
    {
      "cell_type": "code",
      "source": [
        "#Print the recall score of Decision model.\n",
        "recall_score(y_test, test_preds_dec)"
      ],
      "metadata": {
        "colab": {
          "base_uri": "https://localhost:8080/"
        },
        "id": "AmPGXxB2vUmw",
        "outputId": "495b7d31-b6c8-43da-aa69-67c13cec2430"
      },
      "execution_count": 76,
      "outputs": [
        {
          "output_type": "execute_result",
          "data": {
            "text/plain": [
              "0.1375"
            ]
          },
          "metadata": {},
          "execution_count": 76
        }
      ]
    },
    {
      "cell_type": "code",
      "source": [
        "# print the recall score of Random Forest model\n",
        "recall_score(y_test, test_preds_rf)"
      ],
      "metadata": {
        "colab": {
          "base_uri": "https://localhost:8080/"
        },
        "id": "G4H1J1kbvYQg",
        "outputId": "6ef123d8-2e77-4cdc-a90f-0dcffbc6ca72"
      },
      "execution_count": 77,
      "outputs": [
        {
          "output_type": "execute_result",
          "data": {
            "text/plain": [
              "0.0"
            ]
          },
          "metadata": {},
          "execution_count": 77
        }
      ]
    },
    {
      "cell_type": "code",
      "source": [
        "# print the recall score of Bagged Tree model\n",
        "recall_score(y_test, test_preds_bagclf)"
      ],
      "metadata": {
        "colab": {
          "base_uri": "https://localhost:8080/"
        },
        "id": "7rQlmySLvbu-",
        "outputId": "5d328319-14f6-4800-df4f-8b9f6addf903"
      },
      "execution_count": 78,
      "outputs": [
        {
          "output_type": "execute_result",
          "data": {
            "text/plain": [
              "0.0375"
            ]
          },
          "metadata": {},
          "execution_count": 78
        }
      ]
    },
    {
      "cell_type": "code",
      "source": [
        "#Print the precision scores of decision model.\n",
        "precision_score(y_test, test_preds_dec)"
      ],
      "metadata": {
        "colab": {
          "base_uri": "https://localhost:8080/"
        },
        "id": "hSJ9p-4Tvg4g",
        "outputId": "c35a5391-7bd2-488b-a523-f6a142f10167"
      },
      "execution_count": 79,
      "outputs": [
        {
          "output_type": "execute_result",
          "data": {
            "text/plain": [
              "0.16417910447761194"
            ]
          },
          "metadata": {},
          "execution_count": 79
        }
      ]
    },
    {
      "cell_type": "code",
      "source": [
        "#Print the precision scores of random forest model.\n",
        "precision_score(y_test, test_preds_rf)"
      ],
      "metadata": {
        "colab": {
          "base_uri": "https://localhost:8080/"
        },
        "id": "_OEsxVo2vlb3",
        "outputId": "cb2a7adc-3dd8-4ea2-c2a9-a82df623d3bc"
      },
      "execution_count": 80,
      "outputs": [
        {
          "output_type": "stream",
          "name": "stderr",
          "text": [
            "/usr/local/lib/python3.7/dist-packages/sklearn/metrics/_classification.py:1318: UndefinedMetricWarning: Precision is ill-defined and being set to 0.0 due to no predicted samples. Use `zero_division` parameter to control this behavior.\n",
            "  _warn_prf(average, modifier, msg_start, len(result))\n"
          ]
        },
        {
          "output_type": "execute_result",
          "data": {
            "text/plain": [
              "0.0"
            ]
          },
          "metadata": {},
          "execution_count": 80
        }
      ]
    },
    {
      "cell_type": "code",
      "source": [
        "#Print the precision scores of bagged model.\n",
        "precision_score(y_test, test_preds_bagclf)"
      ],
      "metadata": {
        "colab": {
          "base_uri": "https://localhost:8080/"
        },
        "id": "VTmArx4NvwNz",
        "outputId": "69d4a070-1831-4acf-e6f5-801ecb3cb8c3"
      },
      "execution_count": 81,
      "outputs": [
        {
          "output_type": "execute_result",
          "data": {
            "text/plain": [
              "0.3333333333333333"
            ]
          },
          "metadata": {},
          "execution_count": 81
        }
      ]
    },
    {
      "cell_type": "code",
      "source": [
        "from sklearn.metrics import ConfusionMatrixDisplay\n",
        "\n",
        "# Decision Tree Confusion Matrix\n",
        "ConfusionMatrixDisplay.from_predictions(y_test, test_preds_dec)"
      ],
      "metadata": {
        "colab": {
          "base_uri": "https://localhost:8080/",
          "height": 297
        },
        "id": "VPgbRx1Lv4VE",
        "outputId": "8f59810c-055e-4119-fd66-51e002496cbd"
      },
      "execution_count": 82,
      "outputs": [
        {
          "output_type": "execute_result",
          "data": {
            "text/plain": [
              "<sklearn.metrics._plot.confusion_matrix.ConfusionMatrixDisplay at 0x7ff7d28f3990>"
            ]
          },
          "metadata": {},
          "execution_count": 82
        },
        {
          "output_type": "display_data",
          "data": {
            "text/plain": [
              "<Figure size 432x288 with 2 Axes>"
            ],
            "image/png": "[encoded data removed]"
          },
          "metadata": {
            "needs_background": "light"
          }
        }
      ]
    },
    {
      "cell_type": "code",
      "source": [
        "# Random Forest Confusion Matrix\n",
        "ConfusionMatrixDisplay.from_predictions(y_test, test_preds_rf)"
      ],
      "metadata": {
        "colab": {
          "base_uri": "https://localhost:8080/",
          "height": 297
        },
        "id": "Yb9mlM5tv6ay",
        "outputId": "10c1f101-c795-41fe-911d-97d65f4a2037"
      },
      "execution_count": 83,
      "outputs": [
        {
          "output_type": "execute_result",
          "data": {
            "text/plain": [
              "<sklearn.metrics._plot.confusion_matrix.ConfusionMatrixDisplay at 0x7ff7d2880bd0>"
            ]
          },
          "metadata": {},
          "execution_count": 83
        },
        {
          "output_type": "display_data",
          "data": {
            "text/plain": [
              "<Figure size 432x288 with 2 Axes>"
            ],
            "image/png": "[encoded data removed]"
          },
          "metadata": {
            "needs_background": "light"
          }
        }
      ]
    },
    {
      "cell_type": "code",
      "source": [
        "# Bagged Tree Confusion Matrix\n",
        "ConfusionMatrixDisplay.from_predictions(y_test, test_preds_bagclf)"
      ],
      "metadata": {
        "colab": {
          "base_uri": "https://localhost:8080/",
          "height": 297
        },
        "id": "2GWVEhKBwRr6",
        "outputId": "5ae51ddf-2326-426c-f755-478ef30d8ba4"
      },
      "execution_count": 84,
      "outputs": [
        {
          "output_type": "execute_result",
          "data": {
            "text/plain": [
              "<sklearn.metrics._plot.confusion_matrix.ConfusionMatrixDisplay at 0x7ff7d27ad750>"
            ]
          },
          "metadata": {},
          "execution_count": 84
        },
        {
          "output_type": "display_data",
          "data": {
            "text/plain": [
              "<Figure size 432x288 with 2 Axes>"
            ],
            "image/png": "[encoded data removed]"
          },
          "metadata": {
            "needs_background": "light"
          }
        }
      ]
    },
    {
      "cell_type": "code",
      "source": [
        "#Use classifiction_report() to print a report of several metrics for all classes at once\n",
        "\n",
        "classification_report(y_test, test_preds_dec)"
      ],
      "metadata": {
        "colab": {
          "base_uri": "https://localhost:8080/",
          "height": 55
        },
        "id": "e3n60mEowbzd",
        "outputId": "f222dbbc-1a84-4335-93dc-2e7b847004eb"
      },
      "execution_count": 85,
      "outputs": [
        {
          "output_type": "execute_result",
          "data": {
            "text/plain": [
              "'              precision    recall  f1-score   support\\n\\n           0       0.94      0.95      0.95      1198\\n           1       0.16      0.14      0.15        80\\n\\n    accuracy                           0.90      1278\\n   macro avg       0.55      0.55      0.55      1278\\nweighted avg       0.89      0.90      0.90      1278\\n'"
            ],
            "application/vnd.google.colaboratory.intrinsic+json": {
              "type": "string"
            }
          },
          "metadata": {},
          "execution_count": 85
        }
      ]
    },
    {
      "cell_type": "code",
      "source": [
        "classification_report(y_test, test_preds_rf)"
      ],
      "metadata": {
        "colab": {
          "base_uri": "https://localhost:8080/",
          "height": 185
        },
        "id": "jLr_uWUewgv7",
        "outputId": "3976024b-18c7-486a-a9ff-37dc965b7471"
      },
      "execution_count": 86,
      "outputs": [
        {
          "output_type": "stream",
          "name": "stderr",
          "text": [
            "/usr/local/lib/python3.7/dist-packages/sklearn/metrics/_classification.py:1318: UndefinedMetricWarning: Precision and F-score are ill-defined and being set to 0.0 in labels with no predicted samples. Use `zero_division` parameter to control this behavior.\n",
            "  _warn_prf(average, modifier, msg_start, len(result))\n",
            "/usr/local/lib/python3.7/dist-packages/sklearn/metrics/_classification.py:1318: UndefinedMetricWarning: Precision and F-score are ill-defined and being set to 0.0 in labels with no predicted samples. Use `zero_division` parameter to control this behavior.\n",
            "  _warn_prf(average, modifier, msg_start, len(result))\n",
            "/usr/local/lib/python3.7/dist-packages/sklearn/metrics/_classification.py:1318: UndefinedMetricWarning: Precision and F-score are ill-defined and being set to 0.0 in labels with no predicted samples. Use `zero_division` parameter to control this behavior.\n",
            "  _warn_prf(average, modifier, msg_start, len(result))\n"
          ]
        },
        {
          "output_type": "execute_result",
          "data": {
            "text/plain": [
              "'              precision    recall  f1-score   support\\n\\n           0       0.94      1.00      0.97      1198\\n           1       0.00      0.00      0.00        80\\n\\n    accuracy                           0.94      1278\\n   macro avg       0.47      0.50      0.48      1278\\nweighted avg       0.88      0.94      0.91      1278\\n'"
            ],
            "application/vnd.google.colaboratory.intrinsic+json": {
              "type": "string"
            }
          },
          "metadata": {},
          "execution_count": 86
        }
      ]
    },
    {
      "cell_type": "code",
      "source": [
        "classification_report(y_test, test_preds_bagclf)"
      ],
      "metadata": {
        "colab": {
          "base_uri": "https://localhost:8080/",
          "height": 55
        },
        "id": "kDmnZFdewmgv",
        "outputId": "7f03749f-ce1d-459e-ca32-3acf45302d8c"
      },
      "execution_count": 87,
      "outputs": [
        {
          "output_type": "execute_result",
          "data": {
            "text/plain": [
              "'              precision    recall  f1-score   support\\n\\n           0       0.94      0.99      0.97      1198\\n           1       0.33      0.04      0.07        80\\n\\n    accuracy                           0.94      1278\\n   macro avg       0.64      0.52      0.52      1278\\nweighted avg       0.90      0.94      0.91      1278\\n'"
            ],
            "application/vnd.google.colaboratory.intrinsic+json": {
              "type": "string"
            }
          },
          "metadata": {},
          "execution_count": 87
        }
      ]
    },
    {
      "cell_type": "markdown",
      "source": [
        "# Analysis\n",
        "\n",
        "After completing decision treeclassifier, random forest classifier, and bagged tree classifier models it is shown that random forest is not the proper model to  use for this data set. This is because  it has a recall score of 0.0. Therefore the best model is between the Decision Tree Classifier and the Bagged Tree Classifier. Out of those 2 models the Bagged Tree Classifier is the better model due to having the better testing score as well as classification metrics."
      ],
      "metadata": {
        "id": "uSy9p9qt0-5Q"
      }
    }
  ]
}